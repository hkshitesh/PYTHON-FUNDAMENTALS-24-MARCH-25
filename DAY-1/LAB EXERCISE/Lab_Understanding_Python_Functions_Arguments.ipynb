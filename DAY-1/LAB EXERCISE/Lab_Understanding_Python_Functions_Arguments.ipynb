{
  "nbformat": 4,
  "nbformat_minor": 0,
  "metadata": {
    "colab": {
      "provenance": []
    },
    "kernelspec": {
      "name": "python3",
      "display_name": "Python 3"
    },
    "language_info": {
      "name": "python"
    }
  },
  "cells": [
    {
      "cell_type": "code",
      "execution_count": null,
      "metadata": {
        "id": "eP8pVpDatRkf"
      },
      "outputs": [],
      "source": []
    },
    {
      "cell_type": "markdown",
      "source": [
        "# **Understanding Python Functions Arguments**\n",
        "\n",
        "---\n",
        "\n"
      ],
      "metadata": {
        "id": "UArZ7-IUtZPe"
      }
    },
    {
      "cell_type": "markdown",
      "source": [
        "# **1. Function Arguments**\n",
        "\n",
        "---\n",
        "\n",
        "\n",
        "**Definition:**\n",
        "\n",
        "Arguments are values passed to a function when calling it. Python supports multiple types of arguments.\n",
        "\n",
        "Example:\n"
      ],
      "metadata": {
        "id": "QPgSrpWOteLf"
      }
    },
    {
      "cell_type": "code",
      "source": [
        "def show():\n",
        "  print(\"This is show function\")"
      ],
      "metadata": {
        "id": "rXaxbHnstj95"
      },
      "execution_count": 1,
      "outputs": []
    },
    {
      "cell_type": "code",
      "source": [
        "show()"
      ],
      "metadata": {
        "colab": {
          "base_uri": "https://localhost:8080/"
        },
        "id": "VcXDq9uftsFC",
        "outputId": "6fe86973-34ae-4a3c-842b-6e0f46d73840"
      },
      "execution_count": 2,
      "outputs": [
        {
          "output_type": "stream",
          "name": "stdout",
          "text": [
            "This is show function\n"
          ]
        }
      ]
    },
    {
      "cell_type": "code",
      "source": [
        "def show(message):\n",
        "  print(message)"
      ],
      "metadata": {
        "id": "6U6acEaJtutw"
      },
      "execution_count": 3,
      "outputs": []
    },
    {
      "cell_type": "code",
      "source": [
        "show(\"Welcome to Python\")"
      ],
      "metadata": {
        "colab": {
          "base_uri": "https://localhost:8080/"
        },
        "id": "IE0QlHEOt0uK",
        "outputId": "092d45fa-0938-476f-9ce5-5ba7589189e7"
      },
      "execution_count": 4,
      "outputs": [
        {
          "output_type": "stream",
          "name": "stdout",
          "text": [
            "Welcome to Python\n"
          ]
        }
      ]
    },
    {
      "cell_type": "code",
      "source": [],
      "metadata": {
        "id": "RFSftVDrt_mu"
      },
      "execution_count": null,
      "outputs": []
    },
    {
      "cell_type": "markdown",
      "source": [
        "# **2. Positional Arguments**\n",
        "\n",
        "---\n",
        "\n",
        "\n",
        "Definition:\n",
        "\n",
        "Positional arguments are matched to function parameters based on their position in the function call.\n",
        "\n",
        "Example:\n"
      ],
      "metadata": {
        "id": "VzbHYYtOuDw-"
      }
    },
    {
      "cell_type": "code",
      "source": [
        "def person_info(name, age):\n",
        "    print(f\"Name: {name}, Age: {age}\")"
      ],
      "metadata": {
        "id": "Z2E4Hp2nuGvU"
      },
      "execution_count": 5,
      "outputs": []
    },
    {
      "cell_type": "code",
      "source": [
        "person_info(\"Alice\", 25)  # Correct"
      ],
      "metadata": {
        "colab": {
          "base_uri": "https://localhost:8080/"
        },
        "id": "tZUsIDJkubU0",
        "outputId": "b3d25536-223a-4d3c-a0f2-af12533adb7f"
      },
      "execution_count": 6,
      "outputs": [
        {
          "output_type": "stream",
          "name": "stdout",
          "text": [
            "Name: Alice, Age: 25\n"
          ]
        }
      ]
    },
    {
      "cell_type": "code",
      "source": [
        "person_info(25, \"Alice\")  # Incorrect order"
      ],
      "metadata": {
        "colab": {
          "base_uri": "https://localhost:8080/"
        },
        "id": "K6DS-IF2ua4j",
        "outputId": "e5cf25c1-a49f-443b-ad76-3647b9480b3d"
      },
      "execution_count": 7,
      "outputs": [
        {
          "output_type": "stream",
          "name": "stdout",
          "text": [
            "Name: 25, Age: Alice\n"
          ]
        }
      ]
    },
    {
      "cell_type": "code",
      "source": [
        "person_info(age=25, name=\"Alice\")"
      ],
      "metadata": {
        "colab": {
          "base_uri": "https://localhost:8080/"
        },
        "id": "ANKpV9nhuqGk",
        "outputId": "67e60691-bbbf-486b-c473-0950a8da2866"
      },
      "execution_count": 10,
      "outputs": [
        {
          "output_type": "stream",
          "name": "stdout",
          "text": [
            "Name: Alice, Age: 25\n"
          ]
        }
      ]
    },
    {
      "cell_type": "code",
      "source": [],
      "metadata": {
        "id": "QDH7nFRQvF7O"
      },
      "execution_count": null,
      "outputs": []
    },
    {
      "cell_type": "markdown",
      "source": [
        "# **3. Default Arguments**\n",
        "\n",
        "---\n",
        "\n",
        "\n",
        "\n",
        "**Definition:**\n",
        "\n",
        "Default arguments have predefined values that are used if no value is provided during the function call.\n",
        "\n",
        "Example:\n"
      ],
      "metadata": {
        "id": "E-YlILxevK4u"
      }
    },
    {
      "cell_type": "code",
      "source": [
        "def my_sum(a=60,b=50,c=30):\n",
        "  return a+b+c"
      ],
      "metadata": {
        "id": "7jXrQXbNvO45"
      },
      "execution_count": 22,
      "outputs": []
    },
    {
      "cell_type": "code",
      "source": [
        "my_sum(10,20,40)"
      ],
      "metadata": {
        "colab": {
          "base_uri": "https://localhost:8080/"
        },
        "id": "0JducAw9vYgx",
        "outputId": "6571c44d-bd2a-48c9-9dac-3d411cf86123"
      },
      "execution_count": 15,
      "outputs": [
        {
          "output_type": "execute_result",
          "data": {
            "text/plain": [
              "70"
            ]
          },
          "metadata": {},
          "execution_count": 15
        }
      ]
    },
    {
      "cell_type": "code",
      "source": [
        "my_sum(20,40)"
      ],
      "metadata": {
        "colab": {
          "base_uri": "https://localhost:8080/"
        },
        "id": "lA8manBzvdA8",
        "outputId": "08b320b4-5b1d-4ca2-a5d6-e959274d621f"
      },
      "execution_count": 16,
      "outputs": [
        {
          "output_type": "execute_result",
          "data": {
            "text/plain": [
              "90"
            ]
          },
          "metadata": {},
          "execution_count": 16
        }
      ]
    },
    {
      "cell_type": "code",
      "source": [
        "my_sum(30)"
      ],
      "metadata": {
        "colab": {
          "base_uri": "https://localhost:8080/"
        },
        "id": "zP60vtqkvgP7",
        "outputId": "111cc149-cbda-424c-d1b4-039608c6cf2a"
      },
      "execution_count": 20,
      "outputs": [
        {
          "output_type": "execute_result",
          "data": {
            "text/plain": [
              "110"
            ]
          },
          "metadata": {},
          "execution_count": 20
        }
      ]
    },
    {
      "cell_type": "code",
      "source": [
        "my_sum()"
      ],
      "metadata": {
        "colab": {
          "base_uri": "https://localhost:8080/"
        },
        "id": "fbyzuTlyvhZK",
        "outputId": "f15ee633-c6a3-45f4-f39c-d593bbcc8c59"
      },
      "execution_count": 23,
      "outputs": [
        {
          "output_type": "execute_result",
          "data": {
            "text/plain": [
              "140"
            ]
          },
          "metadata": {},
          "execution_count": 23
        }
      ]
    },
    {
      "cell_type": "markdown",
      "source": [
        "# 4. **args (Variable-Length Positional Arguments)**\n",
        "---\n",
        "\n",
        "\n",
        "Definition:\n",
        "\n",
        "*args allows a function to accept multiple positional arguments as a tuple.\n",
        "\n",
        "Example:\n"
      ],
      "metadata": {
        "id": "PHMZPnLZxBgt"
      }
    },
    {
      "cell_type": "code",
      "source": [
        "def sum_numbers(*args):\n",
        "    total = sum(args)\n",
        "    print(\"Sum:\", total)\n",
        "\n",
        "\n"
      ],
      "metadata": {
        "id": "QH-awOn-wsJi"
      },
      "execution_count": 26,
      "outputs": []
    },
    {
      "cell_type": "code",
      "source": [
        "sum_numbers(1, 2, 3)   # Output: Sum: 6\n",
        "sum_numbers(10, 20, 30, 40)  # Output: Sum: 100"
      ],
      "metadata": {
        "colab": {
          "base_uri": "https://localhost:8080/"
        },
        "id": "aSi7enQBw0lf",
        "outputId": "cb1dae25-8e9c-4119-8f05-6f40134e7519"
      },
      "execution_count": 27,
      "outputs": [
        {
          "output_type": "stream",
          "name": "stdout",
          "text": [
            "Sum: 6\n",
            "Sum: 100\n"
          ]
        }
      ]
    },
    {
      "cell_type": "markdown",
      "source": [
        "# 5. kwargs (Variable-Length Keyword Arguments)\n",
        "\n",
        "---\n",
        "\n",
        "\n",
        "Definition:\n",
        "\n",
        "**kwargs allows passing multiple keyword arguments, which are stored as a dictionary.\n",
        "\n",
        "Example:\n"
      ],
      "metadata": {
        "id": "AaiYuCytxm42"
      }
    },
    {
      "cell_type": "markdown",
      "source": [],
      "metadata": {
        "id": "GLOlOWPTyXTE"
      }
    },
    {
      "cell_type": "code",
      "source": [
        "def person_details(**kwargs):\n",
        "    for key, value in kwargs.items():\n",
        "        print(f\"{key}: {value}\")\n"
      ],
      "metadata": {
        "id": "27oA_ybxxqU9"
      },
      "execution_count": 28,
      "outputs": []
    },
    {
      "cell_type": "code",
      "source": [
        "person_details(name=\"Alice\", city=\"New York\")\n",
        "# Output:\n",
        "# name: Alice\n",
        "# city: New York\n"
      ],
      "metadata": {
        "colab": {
          "base_uri": "https://localhost:8080/"
        },
        "id": "ktHrA23hxuTr",
        "outputId": "15ffffde-d146-4d24-b060-466fc09b2e34"
      },
      "execution_count": 30,
      "outputs": [
        {
          "output_type": "stream",
          "name": "stdout",
          "text": [
            "name: Alice\n",
            "city: New York\n"
          ]
        }
      ]
    },
    {
      "cell_type": "code",
      "source": [
        "person_details(name=\"Alice\",age=32, city=\"New York\")"
      ],
      "metadata": {
        "colab": {
          "base_uri": "https://localhost:8080/"
        },
        "id": "evIzCFIOx4JN",
        "outputId": "fcf99dce-b1ba-4c8a-ad1f-f228e5d9533b"
      },
      "execution_count": 31,
      "outputs": [
        {
          "output_type": "stream",
          "name": "stdout",
          "text": [
            "name: Alice\n",
            "age: 32\n",
            "city: New York\n"
          ]
        }
      ]
    },
    {
      "cell_type": "code",
      "source": [
        "person_details(name=\"Alice\",age=32,salary=2000, city=\"New York\")"
      ],
      "metadata": {
        "colab": {
          "base_uri": "https://localhost:8080/"
        },
        "id": "RrOE3rZ2x8PV",
        "outputId": "ca361793-79a9-46c6-f636-97b9967aee8c"
      },
      "execution_count": 32,
      "outputs": [
        {
          "output_type": "stream",
          "name": "stdout",
          "text": [
            "name: Alice\n",
            "age: 32\n",
            "salary: 2000\n",
            "city: New York\n"
          ]
        }
      ]
    },
    {
      "cell_type": "markdown",
      "source": [
        "# **Correct Order of Arguments in Function Definition**\n",
        "\n",
        "---\n",
        "\n"
      ],
      "metadata": {
        "id": "WwFfdawkz8N8"
      }
    },
    {
      "cell_type": "code",
      "source": [
        "def my_function(pos1, pos2, default1=\"default\", *args, **kwargs):\n",
        "    print(f\"Positional: {pos1}, {pos2}\")\n",
        "    print(f\"Default: {default1}\")\n",
        "    print(f\"Args: {args}\")\n",
        "    print(f\"Kwargs: {kwargs}\")\n",
        "\n",
        "my_function(\"A\", \"B\", \"C\", \"D\", \"E\", key1=\"value1\", key2=\"value2\")\n"
      ],
      "metadata": {
        "colab": {
          "base_uri": "https://localhost:8080/"
        },
        "id": "Y-arh0CA0QrY",
        "outputId": "c4e5b52e-b2d8-4e23-e420-077fe1dc9139"
      },
      "execution_count": 33,
      "outputs": [
        {
          "output_type": "stream",
          "name": "stdout",
          "text": [
            "Positional: A, B\n",
            "Default: C\n",
            "Args: ('D', 'E')\n",
            "Kwargs: {'key1': 'value1', 'key2': 'value2'}\n"
          ]
        }
      ]
    },
    {
      "cell_type": "code",
      "source": [
        "my_function(\"A\",\"B\")"
      ],
      "metadata": {
        "colab": {
          "base_uri": "https://localhost:8080/"
        },
        "id": "4tlqfzpq0UqN",
        "outputId": "69c59ad8-ae17-4a47-9ed1-06cd1e7d37bf"
      },
      "execution_count": 35,
      "outputs": [
        {
          "output_type": "stream",
          "name": "stdout",
          "text": [
            "Positional: A, B\n",
            "Default: default\n",
            "Args: ()\n",
            "Kwargs: {}\n"
          ]
        }
      ]
    }
  ]
}